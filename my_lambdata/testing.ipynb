{
 "nbformat": 4,
 "nbformat_minor": 2,
 "metadata": {
  "language_info": {
   "name": "python",
   "codemirror_mode": {
    "name": "ipython",
    "version": 3
   },
   "version": "3.7.6-final"
  },
  "orig_nbformat": 2,
  "file_extension": ".py",
  "mimetype": "text/x-python",
  "name": "python",
  "npconvert_exporter": "python",
  "pygments_lexer": "ipython3",
  "version": 3,
  "kernelspec": {
   "name": "python38264bitmylambdatakylety1ervenv3b1507c1ba7344c3b0d559c8bf426b17",
   "display_name": "Python 3.8.2 64-bit ('my-lambdata-kylety1er': venv)"
  }
 },
 "cells": [
  {
   "cell_type": "code",
   "execution_count": 1,
   "metadata": {},
   "outputs": [],
   "source": [
    "import pandas as pd\n",
    "import numpy as np"
   ]
  },
  {
   "cell_type": "code",
   "execution_count": 2,
   "metadata": {},
   "outputs": [],
   "source": [
    "df = pd.read_csv('https://raw.githubusercontent.com/KyleTy1er/Build-Week-Unit-2/master/fighters_df.csv', index_col=0)"
   ]
  },
  {
   "cell_type": "code",
   "execution_count": 33,
   "metadata": {},
   "outputs": [],
   "source": [
    "# my_lambdata/my_mod.py\n",
    "\n",
    "# Check data frame for nulls:\n",
    "\n",
    "import pandas as pd\n",
    "import numpy as np\n",
    "\n",
    "\n",
    "def null_checker(a):\n",
    "    # Creating a list of all columns containing a null value:\n",
    "    null_columns=a.columns[a.isnull().any()]\n",
    "    # Subsetting the dataframe to retain only the columns with null values\n",
    "    # Summing and sorting those null values by their column from\n",
    "    # least to greatest and limiting output to top 50 results\n",
    "    return a[null_columns].isnull().sum().sort_values(ascending=True).head(50)\n",
    "\n",
    "\n",
    "# Function to set multiple notebook display options:\n",
    "\n",
    "def display_mod():\n",
    "    # Allows output of all columns in a pd.DataFrame\n",
    "    pd.set_option('display.max_columns', None)\n",
    "    # Allows output of all rows in a pd.DataFrame\n",
    "    pd.set_option('display.max_rows', None)\n",
    "    # Allows display of full column list when using df.columns\n",
    "    pd.options.display.max_seq_items = None\n",
    "\n",
    "\n",
    "# Function to retain numeric/low cardinality features while\n",
    "# dropping high cardinality features and the target variable:\n",
    "\n",
    "def feature_keeper(dataframe, target):\n",
    "    # Get a dataframe with all train columns except the target\n",
    "    train_features = dataframe.drop(columns=[target])\n",
    "\n",
    "    # Get a list of the numeric features\n",
    "    numeric_features = train_features.select_dtypes(include='number').columns.tolist()\n",
    "\n",
    "    # Get a series with the cardinality of the nonnumeric features\n",
    "    cardinality = train_features.select_dtypes(exclude='number').nunique()\n",
    "\n",
    "    # Get a list of all categorical features with cardinality <= 50\n",
    "    categorical_features = cardinality[cardinality <= 50].index.tolist()\n",
    "\n",
    "    # Combine the lists\n",
    "    features = numeric_features + categorical_features\n",
    "\n",
    "    return features\n",
    "\n",
    "# Class that performs some common model preparation tasks\n",
    "\n",
    "\n",
    "class Model_Prep():\n",
    "\n",
    "    def __init__(self, dataframe, target=None):\n",
    "        self.dataframe = dataframe\n",
    "        self.target = target\n",
    "\n",
    "    # Drop target variable in a dataframe\n",
    "    def drop_target(self):\n",
    "        train_features = self.dataframe.drop(columns=[self.target])\n",
    "        return train_features\n",
    "\n",
    "    # Get a list of the numeric features\n",
    "    def numeric_features(self):\n",
    "        numeric_features = self.dataframe.select_dtypes(include='number').columns.tolist()\n",
    "        return numeric_features\n",
    "\n",
    "    # Get a list of all categorical features with cardinality <= 50\n",
    "    def cardinality(self):\n",
    "        cardinality = self.dataframe.select_dtypes(exclude='number').nunique()\n",
    "        categorical_features = cardinality[cardinality <= 50].index.tolist()\n",
    "        return categorical_features\n",
    "\n",
    "    # Combine list of categorical/numeric features\n",
    "    def numeric_cat_combine(self):\n",
    "        numeric_features = self.dataframe.select_dtypes(include='number').columns.tolist()\n",
    "        cardinality = self.dataframe.select_dtypes(exclude='number').nunique()\n",
    "        categorical_features = cardinality[cardinality <= 50].index.tolist()\n",
    "        features = numeric_features + categorical_features\n",
    "        return features\n",
    "\n",
    "\n",
    "if __name__ == \"__main__\":\n",
    "\n",
    "    df = pd.read_csv('https://raw.githubusercontent.com/KyleTy1er/Build-Week-Unit-2/master/fighters_df.csv', index_col=0)\n",
    "    df_test = Model_Prep(df, 'is_winner')\n",
    "\n",
    "    print (df_test.drop_target())\n",
    "    print (df_test.numeric_features())\n",
    "    print (df_test.cardinality())\n",
    "    print (df_test.numeric_features())\n"
   ]
  },
  {
   "cell_type": "code",
   "execution_count": 34,
   "metadata": {},
   "outputs": [],
   "source": [
    "df_test = Model_Prep(df,'is_winner')"
   ]
  },
  {
   "cell_type": "code",
   "execution_count": 35,
   "metadata": {},
   "outputs": [
    {
     "output_type": "execute_result",
     "data": {
      "text/plain": "      Height_cms  Reach_cms               Referee    Stance  Weight_lbs   age  \\\n0         162.56     162.56          Marc Goddard  Orthodox       135.0  32.0   \n1         165.10     167.64       Robert Madrigal  Southpaw       125.0  31.0   \n2         180.34     193.04       Dan Miragliotta  Orthodox       155.0  35.0   \n3         162.56     172.72       Kevin MacDonald  Orthodox       135.0  29.0   \n4         187.96     190.50       Dan Miragliotta  Southpaw       264.0  26.0   \n...          ...        ...                   ...       ...         ...   ...   \n5139      193.04        NaN  Joao Alberto Barreto  Orthodox       275.0   NaN   \n5140      187.96        NaN  Joao Alberto Barreto  Orthodox       225.0  30.0   \n5141      185.42        NaN  Joao Alberto Barreto  Orthodox       196.0  30.0   \n5142      195.58        NaN  Joao Alberto Barreto  Orthodox       250.0   NaN   \n5143      182.88        NaN  Joao Alberto Barreto  Orthodox       430.0  24.0   \n\n      avg_BODY_att  avg_BODY_landed  avg_CLINCH_att  avg_CLINCH_landed  ...  \\\n0        21.900000        16.400000       17.000000          11.000000  ...   \n1        12.000000         7.714286        9.285714           6.857143  ...   \n2        13.866667         8.666667        2.866667           1.733333  ...   \n3        18.250000        10.250000        5.875000           4.125000  ...   \n4         7.750000         6.750000       11.000000           7.250000  ...   \n...            ...              ...             ...                ...  ...   \n5139      4.000000         3.000000        9.000000           4.000000  ...   \n5140           NaN              NaN             NaN                NaN  ...   \n5141           NaN              NaN             NaN                NaN  ...   \n5142           NaN              NaN             NaN                NaN  ...   \n5143           NaN              NaN             NaN                NaN  ...   \n\n      total_rounds_fought_ratio  total_time_fought(seconds)_ratio  \\\n0                      2.800000                          1.768792   \n1                      0.866667                          1.250588   \n2                      0.492754                          1.038652   \n3                      2.100000                          1.058576   \n4                      0.888889                          0.367818   \n...                         ...                               ...   \n5139                   1.000000                          9.666667   \n5140                   1.000000                               NaN   \n5141                   1.000000                               NaN   \n5142                   1.000000                               NaN   \n5143                   1.000000                               NaN   \n\n      total_title_bouts_ratio  win_by_Decision_Majority_ratio  \\\n0                         4.0                             1.0   \n1                         3.0                             1.0   \n2                         1.5                             1.0   \n3                         1.0                             1.0   \n4                         1.0                             1.0   \n...                       ...                             ...   \n5139                      1.0                             1.0   \n5140                      1.0                             1.0   \n5141                      1.0                             1.0   \n5142                      1.0                             1.0   \n5143                      1.0                             1.0   \n\n      win_by_Decision_Split_ratio  win_by_Decision_Unanimous_ratio  \\\n0                        1.500000                         5.000000   \n1                        0.666667                         1.500000   \n2                        2.000000                         0.500000   \n3                        2.000000                         1.666667   \n4                        1.000000                         1.000000   \n...                           ...                              ...   \n5139                     1.000000                         1.000000   \n5140                     1.000000                         1.000000   \n5141                     1.000000                         1.000000   \n5142                     1.000000                         1.000000   \n5143                     1.000000                         1.000000   \n\n      win_by_KO/TKO_ratio  win_by_Submission_ratio  \\\n0                1.000000                      0.5   \n1                1.000000                      3.0   \n2                0.363636                      1.0   \n3                0.666667                      1.0   \n4                3.000000                      1.0   \n...                   ...                      ...   \n5139             1.000000                      1.0   \n5140             1.000000                      1.0   \n5141             1.000000                      1.0   \n5142             1.000000                      1.0   \n5143             1.000000                      1.0   \n\n      win_by_TKO_Doctor_Stoppage_ratio  wins_ratio  \n0                                  1.0       1.800  \n1                                  0.5       1.200  \n2                                  2.0       0.625  \n3                                  1.0       1.400  \n4                                  1.0       2.000  \n...                                ...         ...  \n5139                               1.0       1.000  \n5140                               1.0       1.000  \n5141                               1.0       1.000  \n5142                               1.0       1.000  \n5143                               1.0       1.000  \n\n[10288 rows x 223 columns]",
      "text/html": "<div>\n<style scoped>\n    .dataframe tbody tr th:only-of-type {\n        vertical-align: middle;\n    }\n\n    .dataframe tbody tr th {\n        vertical-align: top;\n    }\n\n    .dataframe thead th {\n        text-align: right;\n    }\n</style>\n<table border=\"1\" class=\"dataframe\">\n  <thead>\n    <tr style=\"text-align: right;\">\n      <th></th>\n      <th>Height_cms</th>\n      <th>Reach_cms</th>\n      <th>Referee</th>\n      <th>Stance</th>\n      <th>Weight_lbs</th>\n      <th>age</th>\n      <th>avg_BODY_att</th>\n      <th>avg_BODY_landed</th>\n      <th>avg_CLINCH_att</th>\n      <th>avg_CLINCH_landed</th>\n      <th>...</th>\n      <th>total_rounds_fought_ratio</th>\n      <th>total_time_fought(seconds)_ratio</th>\n      <th>total_title_bouts_ratio</th>\n      <th>win_by_Decision_Majority_ratio</th>\n      <th>win_by_Decision_Split_ratio</th>\n      <th>win_by_Decision_Unanimous_ratio</th>\n      <th>win_by_KO/TKO_ratio</th>\n      <th>win_by_Submission_ratio</th>\n      <th>win_by_TKO_Doctor_Stoppage_ratio</th>\n      <th>wins_ratio</th>\n    </tr>\n  </thead>\n  <tbody>\n    <tr>\n      <th>0</th>\n      <td>162.56</td>\n      <td>162.56</td>\n      <td>Marc Goddard</td>\n      <td>Orthodox</td>\n      <td>135.0</td>\n      <td>32.0</td>\n      <td>21.900000</td>\n      <td>16.400000</td>\n      <td>17.000000</td>\n      <td>11.000000</td>\n      <td>...</td>\n      <td>2.800000</td>\n      <td>1.768792</td>\n      <td>4.0</td>\n      <td>1.0</td>\n      <td>1.500000</td>\n      <td>5.000000</td>\n      <td>1.000000</td>\n      <td>0.5</td>\n      <td>1.0</td>\n      <td>1.800</td>\n    </tr>\n    <tr>\n      <th>1</th>\n      <td>165.10</td>\n      <td>167.64</td>\n      <td>Robert Madrigal</td>\n      <td>Southpaw</td>\n      <td>125.0</td>\n      <td>31.0</td>\n      <td>12.000000</td>\n      <td>7.714286</td>\n      <td>9.285714</td>\n      <td>6.857143</td>\n      <td>...</td>\n      <td>0.866667</td>\n      <td>1.250588</td>\n      <td>3.0</td>\n      <td>1.0</td>\n      <td>0.666667</td>\n      <td>1.500000</td>\n      <td>1.000000</td>\n      <td>3.0</td>\n      <td>0.5</td>\n      <td>1.200</td>\n    </tr>\n    <tr>\n      <th>2</th>\n      <td>180.34</td>\n      <td>193.04</td>\n      <td>Dan Miragliotta</td>\n      <td>Orthodox</td>\n      <td>155.0</td>\n      <td>35.0</td>\n      <td>13.866667</td>\n      <td>8.666667</td>\n      <td>2.866667</td>\n      <td>1.733333</td>\n      <td>...</td>\n      <td>0.492754</td>\n      <td>1.038652</td>\n      <td>1.5</td>\n      <td>1.0</td>\n      <td>2.000000</td>\n      <td>0.500000</td>\n      <td>0.363636</td>\n      <td>1.0</td>\n      <td>2.0</td>\n      <td>0.625</td>\n    </tr>\n    <tr>\n      <th>3</th>\n      <td>162.56</td>\n      <td>172.72</td>\n      <td>Kevin MacDonald</td>\n      <td>Orthodox</td>\n      <td>135.0</td>\n      <td>29.0</td>\n      <td>18.250000</td>\n      <td>10.250000</td>\n      <td>5.875000</td>\n      <td>4.125000</td>\n      <td>...</td>\n      <td>2.100000</td>\n      <td>1.058576</td>\n      <td>1.0</td>\n      <td>1.0</td>\n      <td>2.000000</td>\n      <td>1.666667</td>\n      <td>0.666667</td>\n      <td>1.0</td>\n      <td>1.0</td>\n      <td>1.400</td>\n    </tr>\n    <tr>\n      <th>4</th>\n      <td>187.96</td>\n      <td>190.50</td>\n      <td>Dan Miragliotta</td>\n      <td>Southpaw</td>\n      <td>264.0</td>\n      <td>26.0</td>\n      <td>7.750000</td>\n      <td>6.750000</td>\n      <td>11.000000</td>\n      <td>7.250000</td>\n      <td>...</td>\n      <td>0.888889</td>\n      <td>0.367818</td>\n      <td>1.0</td>\n      <td>1.0</td>\n      <td>1.000000</td>\n      <td>1.000000</td>\n      <td>3.000000</td>\n      <td>1.0</td>\n      <td>1.0</td>\n      <td>2.000</td>\n    </tr>\n    <tr>\n      <th>...</th>\n      <td>...</td>\n      <td>...</td>\n      <td>...</td>\n      <td>...</td>\n      <td>...</td>\n      <td>...</td>\n      <td>...</td>\n      <td>...</td>\n      <td>...</td>\n      <td>...</td>\n      <td>...</td>\n      <td>...</td>\n      <td>...</td>\n      <td>...</td>\n      <td>...</td>\n      <td>...</td>\n      <td>...</td>\n      <td>...</td>\n      <td>...</td>\n      <td>...</td>\n      <td>...</td>\n    </tr>\n    <tr>\n      <th>5139</th>\n      <td>193.04</td>\n      <td>NaN</td>\n      <td>Joao Alberto Barreto</td>\n      <td>Orthodox</td>\n      <td>275.0</td>\n      <td>NaN</td>\n      <td>4.000000</td>\n      <td>3.000000</td>\n      <td>9.000000</td>\n      <td>4.000000</td>\n      <td>...</td>\n      <td>1.000000</td>\n      <td>9.666667</td>\n      <td>1.0</td>\n      <td>1.0</td>\n      <td>1.000000</td>\n      <td>1.000000</td>\n      <td>1.000000</td>\n      <td>1.0</td>\n      <td>1.0</td>\n      <td>1.000</td>\n    </tr>\n    <tr>\n      <th>5140</th>\n      <td>187.96</td>\n      <td>NaN</td>\n      <td>Joao Alberto Barreto</td>\n      <td>Orthodox</td>\n      <td>225.0</td>\n      <td>30.0</td>\n      <td>NaN</td>\n      <td>NaN</td>\n      <td>NaN</td>\n      <td>NaN</td>\n      <td>...</td>\n      <td>1.000000</td>\n      <td>NaN</td>\n      <td>1.0</td>\n      <td>1.0</td>\n      <td>1.000000</td>\n      <td>1.000000</td>\n      <td>1.000000</td>\n      <td>1.0</td>\n      <td>1.0</td>\n      <td>1.000</td>\n    </tr>\n    <tr>\n      <th>5141</th>\n      <td>185.42</td>\n      <td>NaN</td>\n      <td>Joao Alberto Barreto</td>\n      <td>Orthodox</td>\n      <td>196.0</td>\n      <td>30.0</td>\n      <td>NaN</td>\n      <td>NaN</td>\n      <td>NaN</td>\n      <td>NaN</td>\n      <td>...</td>\n      <td>1.000000</td>\n      <td>NaN</td>\n      <td>1.0</td>\n      <td>1.0</td>\n      <td>1.000000</td>\n      <td>1.000000</td>\n      <td>1.000000</td>\n      <td>1.0</td>\n      <td>1.0</td>\n      <td>1.000</td>\n    </tr>\n    <tr>\n      <th>5142</th>\n      <td>195.58</td>\n      <td>NaN</td>\n      <td>Joao Alberto Barreto</td>\n      <td>Orthodox</td>\n      <td>250.0</td>\n      <td>NaN</td>\n      <td>NaN</td>\n      <td>NaN</td>\n      <td>NaN</td>\n      <td>NaN</td>\n      <td>...</td>\n      <td>1.000000</td>\n      <td>NaN</td>\n      <td>1.0</td>\n      <td>1.0</td>\n      <td>1.000000</td>\n      <td>1.000000</td>\n      <td>1.000000</td>\n      <td>1.0</td>\n      <td>1.0</td>\n      <td>1.000</td>\n    </tr>\n    <tr>\n      <th>5143</th>\n      <td>182.88</td>\n      <td>NaN</td>\n      <td>Joao Alberto Barreto</td>\n      <td>Orthodox</td>\n      <td>430.0</td>\n      <td>24.0</td>\n      <td>NaN</td>\n      <td>NaN</td>\n      <td>NaN</td>\n      <td>NaN</td>\n      <td>...</td>\n      <td>1.000000</td>\n      <td>NaN</td>\n      <td>1.0</td>\n      <td>1.0</td>\n      <td>1.000000</td>\n      <td>1.000000</td>\n      <td>1.000000</td>\n      <td>1.0</td>\n      <td>1.0</td>\n      <td>1.000</td>\n    </tr>\n  </tbody>\n</table>\n<p>10288 rows × 223 columns</p>\n</div>"
     },
     "metadata": {},
     "execution_count": 35
    }
   ],
   "source": [
    "df_test.drop_target()"
   ]
  },
  {
   "cell_type": "code",
   "execution_count": 36,
   "metadata": {},
   "outputs": [
    {
     "output_type": "execute_result",
     "data": {
      "text/plain": "['Height_cms',\n 'Reach_cms',\n 'Weight_lbs',\n 'age',\n 'avg_BODY_att',\n 'avg_BODY_landed',\n 'avg_CLINCH_att',\n 'avg_CLINCH_landed',\n 'avg_DISTANCE_att',\n 'avg_DISTANCE_landed',\n 'avg_GROUND_att',\n 'avg_GROUND_landed',\n 'avg_HEAD_att',\n 'avg_HEAD_landed',\n 'avg_KD',\n 'avg_LEG_att',\n 'avg_LEG_landed',\n 'avg_PASS',\n 'avg_REV',\n 'avg_SIG_STR_att',\n 'avg_SIG_STR_landed',\n 'avg_SIG_STR_pct',\n 'avg_SIG_STatt',\n 'avg_SIG_STlanded',\n 'avg_SIG_STpct',\n 'avg_SUATT',\n 'avg_SUB_ATT',\n 'avg_TD_att',\n 'avg_TD_landed',\n 'avg_TD_pct',\n 'avg_TOTAL_STR_att',\n 'avg_TOTAL_STR_landed',\n 'avg_TOTAL_STatt',\n 'avg_TOTAL_STlanded',\n 'avg_opp_BODY_att',\n 'avg_opp_BODY_landed',\n 'avg_opp_CLINCH_att',\n 'avg_opp_CLINCH_landed',\n 'avg_opp_DISTANCE_att',\n 'avg_opp_DISTANCE_landed',\n 'avg_opp_GROUND_att',\n 'avg_opp_GROUND_landed',\n 'avg_opp_HEAD_att',\n 'avg_opp_HEAD_landed',\n 'avg_opp_KD',\n 'avg_opp_LEG_att',\n 'avg_opp_LEG_landed',\n 'avg_opp_PASS',\n 'avg_opp_REV',\n 'avg_opp_SIG_STR_att',\n 'avg_opp_SIG_STR_landed',\n 'avg_opp_SIG_STR_pct',\n 'avg_opp_SIG_STatt',\n 'avg_opp_SIG_STlanded',\n 'avg_opp_SIG_STpct',\n 'avg_opp_SUATT',\n 'avg_opp_SUB_ATT',\n 'avg_opp_TD_att',\n 'avg_opp_TD_landed',\n 'avg_opp_TD_pct',\n 'avg_opp_TOTAL_STR_att',\n 'avg_opp_TOTAL_STR_landed',\n 'avg_opp_TOTAL_STatt',\n 'avg_opp_TOTAL_STlanded',\n 'current_lose_streak',\n 'current_win_streak',\n 'draw',\n 'longest_win_streak',\n 'losses',\n 'no_of_rounds',\n 'Height_cms_opponent',\n 'Reach_cms_opponent',\n 'Weight_lbs_opponent',\n 'age_opponent',\n 'avg_BODY_att_opponent',\n 'avg_BODY_landed_opponent',\n 'avg_CLINCH_att_opponent',\n 'avg_CLINCH_landed_opponent',\n 'avg_DISTANCE_att_opponent',\n 'avg_DISTANCE_landed_opponent',\n 'avg_GROUND_att_opponent',\n 'avg_GROUND_landed_opponent',\n 'avg_HEAD_att_opponent',\n 'avg_HEAD_landed_opponent',\n 'avg_KD_opponent',\n 'avg_LEG_att_opponent',\n 'avg_LEG_landed_opponent',\n 'avg_PASS_opponent',\n 'avg_REV_opponent',\n 'avg_SIG_STR_att_opponent',\n 'avg_SIG_STR_landed_opponent',\n 'avg_SIG_STR_pct_opponent',\n 'avg_SUB_ATT_opponent',\n 'avg_TD_att_opponent',\n 'avg_TD_landed_opponent',\n 'avg_TD_pct_opponent',\n 'avg_TOTAL_STR_att_opponent',\n 'avg_TOTAL_STR_landed_opponent',\n 'avg_opp_BODY_att_opponent',\n 'avg_opp_BODY_landed_opponent',\n 'avg_opp_CLINCH_att_opponent',\n 'avg_opp_CLINCH_landed_opponent',\n 'avg_opp_DISTANCE_att_opponent',\n 'avg_opp_DISTANCE_landed_opponent',\n 'avg_opp_GROUND_att_opponent',\n 'avg_opp_GROUND_landed_opponent',\n 'avg_opp_HEAD_att_opponent',\n 'avg_opp_HEAD_landed_opponent',\n 'avg_opp_KD_opponent',\n 'avg_opp_LEG_att_opponent',\n 'avg_opp_LEG_landed_opponent',\n 'avg_opp_PASS_opponent',\n 'avg_opp_REV_opponent',\n 'avg_opp_SIG_STR_att_opponent',\n 'avg_opp_SIG_STR_landed_opponent',\n 'avg_opp_SIG_STR_pct_opponent',\n 'avg_opp_SUB_ATT_opponent',\n 'avg_opp_TD_att_opponent',\n 'avg_opp_TD_landed_opponent',\n 'avg_opp_TD_pct_opponent',\n 'avg_opp_TOTAL_STR_att_opponent',\n 'avg_opp_TOTAL_STR_landed_opponent',\n 'current_lose_streak_opponent',\n 'current_win_streak_opponent',\n 'draw_opponent',\n 'longest_win_streak_opponent',\n 'losses_opponent',\n 'total_rounds_fought_opponent',\n 'total_time_fought(seconds)_opponent',\n 'total_title_bouts_opponent',\n 'win_by_Decision_Majority_opponent',\n 'win_by_Decision_Split_opponent',\n 'win_by_Decision_Unanimous_opponent',\n 'win_by_KO/TKO_opponent',\n 'win_by_Submission_opponent',\n 'win_by_TKO_Doctor_Stoppage_opponent',\n 'wins_opponent',\n 'total_rounds_fought',\n 'total_time_fought(seconds)',\n 'total_title_bouts',\n 'win_by_Decision_Majority',\n 'win_by_Decision_Split',\n 'win_by_Decision_Unanimous',\n 'win_by_KO/TKO',\n 'win_by_Submission',\n 'win_by_TKO_Doctor_Stoppage',\n 'wins',\n 'Height_cms_ratio',\n 'Reach_cms_ratio',\n 'Weight_lbs_ratio',\n 'age_ratio',\n 'avg_BODY_att_ratio',\n 'avg_BODY_landed_ratio',\n 'avg_CLINCH_att_ratio',\n 'avg_CLINCH_landed_ratio',\n 'avg_DISTANCE_att_ratio',\n 'avg_DISTANCE_landed_ratio',\n 'avg_GROUND_att_ratio',\n 'avg_GROUND_landed_ratio',\n 'avg_HEAD_att_ratio',\n 'avg_HEAD_landed_ratio',\n 'avg_KD_ratio',\n 'avg_LEG_att_ratio',\n 'avg_LEG_landed_ratio',\n 'avg_PASS_ratio',\n 'avg_REV_ratio',\n 'avg_SIG_STR_att_ratio',\n 'avg_SIG_STR_landed_ratio',\n 'avg_SIG_STR_pct_ratio',\n 'avg_SUB_ATT_ratio',\n 'avg_TD_att_ratio',\n 'avg_TD_landed_ratio',\n 'avg_TD_pct_ratio',\n 'avg_TOTAL_STR_att_ratio',\n 'avg_TOTAL_STR_landed_ratio',\n 'avg_opp_BODY_att_ratio',\n 'avg_opp_BODY_landed_ratio',\n 'avg_opp_CLINCH_att_ratio',\n 'avg_opp_CLINCH_landed_ratio',\n 'avg_opp_DISTANCE_att_ratio',\n 'avg_opp_DISTANCE_landed_ratio',\n 'avg_opp_GROUND_att_ratio',\n 'avg_opp_GROUND_landed_ratio',\n 'avg_opp_HEAD_att_ratio',\n 'avg_opp_HEAD_landed_ratio',\n 'avg_opp_KD_ratio',\n 'avg_opp_LEG_att_ratio',\n 'avg_opp_LEG_landed_ratio',\n 'avg_opp_PASS_ratio',\n 'avg_opp_REV_ratio',\n 'avg_opp_SIG_STR_att_ratio',\n 'avg_opp_SIG_STR_landed_ratio',\n 'avg_opp_SIG_STR_pct_ratio',\n 'avg_opp_SUB_ATT_ratio',\n 'avg_opp_TD_att_ratio',\n 'avg_opp_TD_landed_ratio',\n 'avg_opp_TD_pct_ratio',\n 'avg_opp_TOTAL_STR_att_ratio',\n 'avg_opp_TOTAL_STR_landed_ratio',\n 'current_lose_streak_ratio',\n 'current_win_streak_ratio',\n 'draw_ratio',\n 'longest_win_streak_ratio',\n 'losses_ratio',\n 'total_rounds_fought_ratio',\n 'total_time_fought(seconds)_ratio',\n 'total_title_bouts_ratio',\n 'win_by_Decision_Majority_ratio',\n 'win_by_Decision_Split_ratio',\n 'win_by_Decision_Unanimous_ratio',\n 'win_by_KO/TKO_ratio',\n 'win_by_Submission_ratio',\n 'win_by_TKO_Doctor_Stoppage_ratio',\n 'wins_ratio']"
     },
     "metadata": {},
     "execution_count": 36
    }
   ],
   "source": [
    "df_test.numeric_features()"
   ]
  },
  {
   "cell_type": "code",
   "execution_count": 37,
   "metadata": {},
   "outputs": [
    {
     "output_type": "execute_result",
     "data": {
      "text/plain": "['Stance', 'is_winner', 'Stance_opponent', 'title_bout', 'weight_class']"
     },
     "metadata": {},
     "execution_count": 37
    }
   ],
   "source": [
    "df_test.cardinality()"
   ]
  },
  {
   "cell_type": "code",
   "execution_count": 38,
   "metadata": {},
   "outputs": [
    {
     "output_type": "execute_result",
     "data": {
      "text/plain": "['Height_cms',\n 'Reach_cms',\n 'Weight_lbs',\n 'age',\n 'avg_BODY_att',\n 'avg_BODY_landed',\n 'avg_CLINCH_att',\n 'avg_CLINCH_landed',\n 'avg_DISTANCE_att',\n 'avg_DISTANCE_landed',\n 'avg_GROUND_att',\n 'avg_GROUND_landed',\n 'avg_HEAD_att',\n 'avg_HEAD_landed',\n 'avg_KD',\n 'avg_LEG_att',\n 'avg_LEG_landed',\n 'avg_PASS',\n 'avg_REV',\n 'avg_SIG_STR_att',\n 'avg_SIG_STR_landed',\n 'avg_SIG_STR_pct',\n 'avg_SIG_STatt',\n 'avg_SIG_STlanded',\n 'avg_SIG_STpct',\n 'avg_SUATT',\n 'avg_SUB_ATT',\n 'avg_TD_att',\n 'avg_TD_landed',\n 'avg_TD_pct',\n 'avg_TOTAL_STR_att',\n 'avg_TOTAL_STR_landed',\n 'avg_TOTAL_STatt',\n 'avg_TOTAL_STlanded',\n 'avg_opp_BODY_att',\n 'avg_opp_BODY_landed',\n 'avg_opp_CLINCH_att',\n 'avg_opp_CLINCH_landed',\n 'avg_opp_DISTANCE_att',\n 'avg_opp_DISTANCE_landed',\n 'avg_opp_GROUND_att',\n 'avg_opp_GROUND_landed',\n 'avg_opp_HEAD_att',\n 'avg_opp_HEAD_landed',\n 'avg_opp_KD',\n 'avg_opp_LEG_att',\n 'avg_opp_LEG_landed',\n 'avg_opp_PASS',\n 'avg_opp_REV',\n 'avg_opp_SIG_STR_att',\n 'avg_opp_SIG_STR_landed',\n 'avg_opp_SIG_STR_pct',\n 'avg_opp_SIG_STatt',\n 'avg_opp_SIG_STlanded',\n 'avg_opp_SIG_STpct',\n 'avg_opp_SUATT',\n 'avg_opp_SUB_ATT',\n 'avg_opp_TD_att',\n 'avg_opp_TD_landed',\n 'avg_opp_TD_pct',\n 'avg_opp_TOTAL_STR_att',\n 'avg_opp_TOTAL_STR_landed',\n 'avg_opp_TOTAL_STatt',\n 'avg_opp_TOTAL_STlanded',\n 'current_lose_streak',\n 'current_win_streak',\n 'draw',\n 'longest_win_streak',\n 'losses',\n 'no_of_rounds',\n 'Height_cms_opponent',\n 'Reach_cms_opponent',\n 'Weight_lbs_opponent',\n 'age_opponent',\n 'avg_BODY_att_opponent',\n 'avg_BODY_landed_opponent',\n 'avg_CLINCH_att_opponent',\n 'avg_CLINCH_landed_opponent',\n 'avg_DISTANCE_att_opponent',\n 'avg_DISTANCE_landed_opponent',\n 'avg_GROUND_att_opponent',\n 'avg_GROUND_landed_opponent',\n 'avg_HEAD_att_opponent',\n 'avg_HEAD_landed_opponent',\n 'avg_KD_opponent',\n 'avg_LEG_att_opponent',\n 'avg_LEG_landed_opponent',\n 'avg_PASS_opponent',\n 'avg_REV_opponent',\n 'avg_SIG_STR_att_opponent',\n 'avg_SIG_STR_landed_opponent',\n 'avg_SIG_STR_pct_opponent',\n 'avg_SUB_ATT_opponent',\n 'avg_TD_att_opponent',\n 'avg_TD_landed_opponent',\n 'avg_TD_pct_opponent',\n 'avg_TOTAL_STR_att_opponent',\n 'avg_TOTAL_STR_landed_opponent',\n 'avg_opp_BODY_att_opponent',\n 'avg_opp_BODY_landed_opponent',\n 'avg_opp_CLINCH_att_opponent',\n 'avg_opp_CLINCH_landed_opponent',\n 'avg_opp_DISTANCE_att_opponent',\n 'avg_opp_DISTANCE_landed_opponent',\n 'avg_opp_GROUND_att_opponent',\n 'avg_opp_GROUND_landed_opponent',\n 'avg_opp_HEAD_att_opponent',\n 'avg_opp_HEAD_landed_opponent',\n 'avg_opp_KD_opponent',\n 'avg_opp_LEG_att_opponent',\n 'avg_opp_LEG_landed_opponent',\n 'avg_opp_PASS_opponent',\n 'avg_opp_REV_opponent',\n 'avg_opp_SIG_STR_att_opponent',\n 'avg_opp_SIG_STR_landed_opponent',\n 'avg_opp_SIG_STR_pct_opponent',\n 'avg_opp_SUB_ATT_opponent',\n 'avg_opp_TD_att_opponent',\n 'avg_opp_TD_landed_opponent',\n 'avg_opp_TD_pct_opponent',\n 'avg_opp_TOTAL_STR_att_opponent',\n 'avg_opp_TOTAL_STR_landed_opponent',\n 'current_lose_streak_opponent',\n 'current_win_streak_opponent',\n 'draw_opponent',\n 'longest_win_streak_opponent',\n 'losses_opponent',\n 'total_rounds_fought_opponent',\n 'total_time_fought(seconds)_opponent',\n 'total_title_bouts_opponent',\n 'win_by_Decision_Majority_opponent',\n 'win_by_Decision_Split_opponent',\n 'win_by_Decision_Unanimous_opponent',\n 'win_by_KO/TKO_opponent',\n 'win_by_Submission_opponent',\n 'win_by_TKO_Doctor_Stoppage_opponent',\n 'wins_opponent',\n 'total_rounds_fought',\n 'total_time_fought(seconds)',\n 'total_title_bouts',\n 'win_by_Decision_Majority',\n 'win_by_Decision_Split',\n 'win_by_Decision_Unanimous',\n 'win_by_KO/TKO',\n 'win_by_Submission',\n 'win_by_TKO_Doctor_Stoppage',\n 'wins',\n 'Height_cms_ratio',\n 'Reach_cms_ratio',\n 'Weight_lbs_ratio',\n 'age_ratio',\n 'avg_BODY_att_ratio',\n 'avg_BODY_landed_ratio',\n 'avg_CLINCH_att_ratio',\n 'avg_CLINCH_landed_ratio',\n 'avg_DISTANCE_att_ratio',\n 'avg_DISTANCE_landed_ratio',\n 'avg_GROUND_att_ratio',\n 'avg_GROUND_landed_ratio',\n 'avg_HEAD_att_ratio',\n 'avg_HEAD_landed_ratio',\n 'avg_KD_ratio',\n 'avg_LEG_att_ratio',\n 'avg_LEG_landed_ratio',\n 'avg_PASS_ratio',\n 'avg_REV_ratio',\n 'avg_SIG_STR_att_ratio',\n 'avg_SIG_STR_landed_ratio',\n 'avg_SIG_STR_pct_ratio',\n 'avg_SUB_ATT_ratio',\n 'avg_TD_att_ratio',\n 'avg_TD_landed_ratio',\n 'avg_TD_pct_ratio',\n 'avg_TOTAL_STR_att_ratio',\n 'avg_TOTAL_STR_landed_ratio',\n 'avg_opp_BODY_att_ratio',\n 'avg_opp_BODY_landed_ratio',\n 'avg_opp_CLINCH_att_ratio',\n 'avg_opp_CLINCH_landed_ratio',\n 'avg_opp_DISTANCE_att_ratio',\n 'avg_opp_DISTANCE_landed_ratio',\n 'avg_opp_GROUND_att_ratio',\n 'avg_opp_GROUND_landed_ratio',\n 'avg_opp_HEAD_att_ratio',\n 'avg_opp_HEAD_landed_ratio',\n 'avg_opp_KD_ratio',\n 'avg_opp_LEG_att_ratio',\n 'avg_opp_LEG_landed_ratio',\n 'avg_opp_PASS_ratio',\n 'avg_opp_REV_ratio',\n 'avg_opp_SIG_STR_att_ratio',\n 'avg_opp_SIG_STR_landed_ratio',\n 'avg_opp_SIG_STR_pct_ratio',\n 'avg_opp_SUB_ATT_ratio',\n 'avg_opp_TD_att_ratio',\n 'avg_opp_TD_landed_ratio',\n 'avg_opp_TD_pct_ratio',\n 'avg_opp_TOTAL_STR_att_ratio',\n 'avg_opp_TOTAL_STR_landed_ratio',\n 'current_lose_streak_ratio',\n 'current_win_streak_ratio',\n 'draw_ratio',\n 'longest_win_streak_ratio',\n 'losses_ratio',\n 'total_rounds_fought_ratio',\n 'total_time_fought(seconds)_ratio',\n 'total_title_bouts_ratio',\n 'win_by_Decision_Majority_ratio',\n 'win_by_Decision_Split_ratio',\n 'win_by_Decision_Unanimous_ratio',\n 'win_by_KO/TKO_ratio',\n 'win_by_Submission_ratio',\n 'win_by_TKO_Doctor_Stoppage_ratio',\n 'wins_ratio',\n 'Stance',\n 'is_winner',\n 'Stance_opponent',\n 'title_bout',\n 'weight_class']"
     },
     "metadata": {},
     "execution_count": 38
    }
   ],
   "source": [
    "df_test.numeric_cat_combine()"
   ]
  },
  {
   "cell_type": "code",
   "execution_count": null,
   "metadata": {},
   "outputs": [],
   "source": []
  }
 ]
}