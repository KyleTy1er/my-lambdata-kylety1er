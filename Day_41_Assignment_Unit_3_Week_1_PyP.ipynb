{
  "nbformat": 4,
  "nbformat_minor": 0,
  "metadata": {
    "colab": {
      "name": "Day 41 Assignment Unit 3 Week 1 PyP.ipynb",
      "provenance": [],
      "authorship_tag": "ABX9TyMnf/prT5zceVtF78zg42IT",
      "include_colab_link": true
    },
    "kernelspec": {
      "name": "python3",
      "display_name": "Python 3"
    }
  },
  "cells": [
    {
      "cell_type": "markdown",
      "metadata": {
        "id": "view-in-github",
        "colab_type": "text"
      },
      "source": [
        "<a href=\"https://colab.research.google.com/github/KyleTy1er/my-lambdata-kylety1er/blob/master/Day_41_Assignment_Unit_3_Week_1_PyP.ipynb\" target=\"_parent\"><img src=\"https://colab.research.google.com/assets/colab-badge.svg\" alt=\"Open In Colab\"/></a>"
      ]
    },
    {
      "cell_type": "code",
      "metadata": {
        "id": "dUpDwGJii94P",
        "colab_type": "code",
        "outputId": "142ea464-ff91-4cc6-fdec-a89b7ad59b4c",
        "colab": {
          "base_uri": "https://localhost:8080/",
          "height": 51
        }
      },
      "source": [
        "!pip install -i https://test.pypi.org/simple/ my-lambdata-kylety1er==3.0"
      ],
      "execution_count": 0,
      "outputs": [
        {
          "output_type": "stream",
          "text": [
            "Looking in indexes: https://test.pypi.org/simple/\n",
            "Requirement already satisfied: my-lambdata-kylety1er==3.0 in /usr/local/lib/python3.6/dist-packages (3.0)\n"
          ],
          "name": "stdout"
        }
      ]
    },
    {
      "cell_type": "code",
      "metadata": {
        "id": "9lM270OFomYc",
        "colab_type": "code",
        "colab": {}
      },
      "source": [
        "import numpy as np\n",
        "import pandas as pd"
      ],
      "execution_count": 0,
      "outputs": []
    },
    {
      "cell_type": "code",
      "metadata": {
        "id": "HkxqhohfjFlf",
        "colab_type": "code",
        "colab": {}
      },
      "source": [
        "df = pd.read_csv('https://raw.githubusercontent.com/KyleTy1er/Build-Week-Unit-2/master/fighters_df.csv', index_col=0)"
      ],
      "execution_count": 0,
      "outputs": []
    },
    {
      "cell_type": "code",
      "metadata": {
        "id": "rTLplMi-jITa",
        "colab_type": "code",
        "colab": {}
      },
      "source": [
        "from my_lambdata.my_mod import null_checker"
      ],
      "execution_count": 0,
      "outputs": []
    },
    {
      "cell_type": "code",
      "metadata": {
        "id": "RFXbOouhvNdO",
        "colab_type": "code",
        "colab": {}
      },
      "source": [
        "from my_lambdata.my_mod import display_mod"
      ],
      "execution_count": 0,
      "outputs": []
    },
    {
      "cell_type": "code",
      "metadata": {
        "id": "AOqCZCi9vLF4",
        "colab_type": "code",
        "colab": {}
      },
      "source": [
        "display_mod()"
      ],
      "execution_count": 0,
      "outputs": []
    },
    {
      "cell_type": "code",
      "metadata": {
        "id": "_nB6UNlOtuzS",
        "colab_type": "code",
        "outputId": "bb74f13d-c196-4eab-f458-06af9a7b62df",
        "colab": {
          "base_uri": "https://localhost:8080/",
          "height": 884
        }
      },
      "source": [
        "null_checker(df)"
      ],
      "execution_count": 0,
      "outputs": [
        {
          "output_type": "execute_result",
          "data": {
            "text/plain": [
              "Weight_lbs_opponent                       9\n",
              "Weight_lbs                                9\n",
              "Height_cms                               12\n",
              "Height_cms_opponent                      12\n",
              "Weight_lbs_ratio                         16\n",
              "Height_cms_ratio                         22\n",
              "Referee                                  46\n",
              "age                                     236\n",
              "age_opponent                            236\n",
              "Stance_opponent                         293\n",
              "Stance                                  293\n",
              "age_ratio                               392\n",
              "Reach_cms                               982\n",
              "Reach_cms_opponent                      982\n",
              "Reach_cms_ratio                        1482\n",
              "avg_PASS_opponent                      1915\n",
              "avg_REV_opponent                       1915\n",
              "avg_SIG_STR_landed_opponent            1915\n",
              "avg_TD_landed_opponent                 1915\n",
              "avg_SUB_ATT_opponent                   1915\n",
              "avg_TD_att_opponent                    1915\n",
              "avg_LEG_landed_opponent                1915\n",
              "avg_SIG_STR_pct_opponent               1915\n",
              "avg_LEG_att_opponent                   1915\n",
              "avg_GROUND_landed_opponent             1915\n",
              "avg_HEAD_landed_opponent               1915\n",
              "avg_HEAD_att_opponent                  1915\n",
              "avg_TD_pct_opponent                    1915\n",
              "avg_GROUND_att_opponent                1915\n",
              "avg_DISTANCE_landed_opponent           1915\n",
              "avg_DISTANCE_att_opponent              1915\n",
              "avg_CLINCH_landed_opponent             1915\n",
              "avg_CLINCH_att_opponent                1915\n",
              "avg_BODY_landed_opponent               1915\n",
              "avg_BODY_att_opponent                  1915\n",
              "avg_KD_opponent                        1915\n",
              "avg_TOTAL_STR_att_opponent             1915\n",
              "avg_opp_CLINCH_att_opponent            1915\n",
              "avg_opp_BODY_att_opponent              1915\n",
              "total_time_fought(seconds)             1915\n",
              "total_time_fought(seconds)_opponent    1915\n",
              "avg_opp_TOTAL_STR_landed_opponent      1915\n",
              "avg_opp_TOTAL_STR_att_opponent         1915\n",
              "avg_opp_TD_pct_opponent                1915\n",
              "avg_opp_TD_landed_opponent             1915\n",
              "avg_opp_TD_att_opponent                1915\n",
              "avg_opp_SUB_ATT_opponent               1915\n",
              "avg_opp_SIG_STR_pct_opponent           1915\n",
              "avg_opp_SIG_STR_landed_opponent        1915\n",
              "avg_opp_SIG_STR_att_opponent           1915\n",
              "dtype: int64"
            ]
          },
          "metadata": {
            "tags": []
          },
          "execution_count": 7
        }
      ]
    }
  ]
}