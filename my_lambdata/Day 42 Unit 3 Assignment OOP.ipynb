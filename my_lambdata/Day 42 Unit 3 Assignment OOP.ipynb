{
 "nbformat": 4,
 "nbformat_minor": 2,
 "metadata": {
  "language_info": {
   "name": "python",
   "codemirror_mode": {
    "name": "ipython",
    "version": 3
   },
   "version": "3.7.6-final"
  },
  "orig_nbformat": 2,
  "file_extension": ".py",
  "mimetype": "text/x-python",
  "name": "python",
  "npconvert_exporter": "python",
  "pygments_lexer": "ipython3",
  "version": 3,
  "kernelspec": {
   "name": "python38264bitmylambdatakylety1ervenv3b1507c1ba7344c3b0d559c8bf426b17",
   "display_name": "Python 3.8.2 64-bit ('my-lambdata-kylety1er': venv)"
  }
 },
 "cells": [
  {
   "cell_type": "code",
   "execution_count": 1,
   "metadata": {},
   "outputs": [],
   "source": [
    "import pandas as pd\n",
    "import numpy as np"
   ]
  },
  {
   "cell_type": "code",
   "execution_count": 2,
   "metadata": {},
   "outputs": [],
   "source": [
    "df = pd.read_csv('https://raw.githubusercontent.com/KyleTy1er/Build-Week-Unit-2/master/fighters_df.csv', index_col=0)"
   ]
  },
  {
   "cell_type": "code",
   "execution_count": 17,
   "metadata": {},
   "outputs": [],
   "source": [
    "\n",
    "class Model_Prep():\n",
    "    def __init__(self, dataframe, target=None):\n",
    "        self.dataframe = dataframe\n",
    "        self.target = target\n",
    "      \n",
    "    def drop_target(self):\n",
    "        train_features = self.dataframe.drop(columns=[self.target])\n",
    "        return train_features\n",
    "# ​\n",
    "    def numeric_features(self):\n",
    "        numeric_features = self.dataframe.drop(columns=[self.target])\n",
    "        numeric_features = self.dataframe.select_dtypes(include='number').columns.tolist()\n",
    "        return numeric_features\n",
    "\n",
    "#     def cardinality(train_features):\n",
    "#         cardinality = train_features.select_dtypes(exclude='number').nunique()\n",
    "#         return cardinality"
   ]
  },
  {
   "cell_type": "code",
   "execution_count": 12,
   "metadata": {},
   "outputs": [],
   "source": [
    "df1 = Model_Prep(df, 'is_winner')"
   ]
  },
  {
   "cell_type": "code",
   "execution_count": 13,
   "metadata": {},
   "outputs": [],
   "source": [
    "huh = df1.drop_target()"
   ]
  },
  {
   "cell_type": "code",
   "execution_count": 18,
   "metadata": {},
   "outputs": [
    {
     "output_type": "error",
     "ename": "AttributeError",
     "evalue": "'Model_Prep' object has no attribute 'numberic_features'",
     "traceback": [
      "\u001b[0;31m---------------------------------------------------------------------------\u001b[0m",
      "\u001b[0;31mAttributeError\u001b[0m                            Traceback (most recent call last)",
      "\u001b[0;32m<ipython-input-18-c84983620c44>\u001b[0m in \u001b[0;36m<module>\u001b[0;34m\u001b[0m\n\u001b[0;32m----> 1\u001b[0;31m \u001b[0mdf1\u001b[0m\u001b[0;34m.\u001b[0m\u001b[0mnumberic_features\u001b[0m\u001b[0;34m(\u001b[0m\u001b[0;34m)\u001b[0m\u001b[0;34m\u001b[0m\u001b[0;34m\u001b[0m\u001b[0m\n\u001b[0m",
      "\u001b[0;31mAttributeError\u001b[0m: 'Model_Prep' object has no attribute 'numberic_features'"
     ]
    }
   ],
   "source": [
    "df1.numberic_features()"
   ]
  },
  {
   "cell_type": "code",
   "execution_count": null,
   "metadata": {},
   "outputs": [],
   "source": []
  }
 ]
}